{
    "nbformat_minor": 1, 
    "cells": [
        {
            "source": "# Linear Regression for house pricing", 
            "cell_type": "markdown", 
            "metadata": {
                "collapsed": true
            }
        }, 
        {
            "source": "<i>Konstantin Kuzmin, 2019</i>", 
            "cell_type": "markdown", 
            "metadata": {}
        }, 
        {
            "source": "<b>Task</b>: Given set of house sales in the neighborhood last year calculate fair price for my house using linear regression.<br><b>Data</b>: Features include number of bedrooms, full bath, half bath, stories, garage spots, year when property was built, square footage, land size, listed price, Y/N upgrades flag, Y/N rented flag, number from 0 to 1 experessing proximity to a recently opened neighborhood cave, Y/N pool flag, Y/N cul-de-sac flag, Y/N facing greenbelt flag.", 
            "cell_type": "markdown", 
            "metadata": {}
        }, 
        {
            "source": "### Initial setup", 
            "cell_type": "markdown", 
            "metadata": {}
        }, 
        {
            "execution_count": 3, 
            "cell_type": "code", 
            "metadata": {}, 
            "outputs": [
                {
                    "output_type": "stream", 
                    "name": "stdout", 
                    "text": "Collecting mxnet\n\u001b[?25l  Downloading https://files.pythonhosted.org/packages/58/f4/bc147a1ba7175f9890523ff8f1a928a43ac8a79d5897a067158cac4d092f/mxnet-1.4.1-py2.py3-none-manylinux1_x86_64.whl (28.4MB)\n\u001b[K    100% |\u2588\u2588\u2588\u2588\u2588\u2588\u2588\u2588\u2588\u2588\u2588\u2588\u2588\u2588\u2588\u2588\u2588\u2588\u2588\u2588\u2588\u2588\u2588\u2588\u2588\u2588\u2588\u2588\u2588\u2588\u2588\u2588| 28.4MB 933kB/s eta 0:00:01\n\u001b[?25hRequirement already satisfied: numpy<1.15.0,>=1.8.2 in /opt/conda/envs/DSX-Python35/lib/python3.5/site-packages (from mxnet) (1.13.3)\nCollecting graphviz<0.9.0,>=0.8.1 (from mxnet)\n  Downloading https://files.pythonhosted.org/packages/53/39/4ab213673844e0c004bed8a0781a0721a3f6bb23eb8854ee75c236428892/graphviz-0.8.4-py2.py3-none-any.whl\nCollecting requests>=2.20.0 (from mxnet)\n\u001b[?25l  Downloading https://files.pythonhosted.org/packages/51/bd/23c926cd341ea6b7dd0b2a00aba99ae0f828be89d72b2190f27c11d4b7fb/requests-2.22.0-py2.py3-none-any.whl (57kB)\n\u001b[K    100% |\u2588\u2588\u2588\u2588\u2588\u2588\u2588\u2588\u2588\u2588\u2588\u2588\u2588\u2588\u2588\u2588\u2588\u2588\u2588\u2588\u2588\u2588\u2588\u2588\u2588\u2588\u2588\u2588\u2588\u2588\u2588\u2588| 61kB 17.9MB/s ta 0:00:01\n\u001b[?25hRequirement already satisfied: chardet<3.1.0,>=3.0.2 in /opt/conda/envs/DSX-Python35/lib/python3.5/site-packages (from requests>=2.20.0->mxnet) (3.0.4)\nRequirement already satisfied: urllib3!=1.25.0,!=1.25.1,<1.26,>=1.21.1 in /opt/conda/envs/DSX-Python35/lib/python3.5/site-packages (from requests>=2.20.0->mxnet) (1.22)\nRequirement already satisfied: idna<2.9,>=2.5 in /opt/conda/envs/DSX-Python35/lib/python3.5/site-packages (from requests>=2.20.0->mxnet) (2.6)\nRequirement already satisfied: certifi>=2017.4.17 in /opt/conda/envs/DSX-Python35/lib/python3.5/site-packages (from requests>=2.20.0->mxnet) (2019.3.9)\n\u001b[31mtensorflow 1.3.0 requires tensorflow-tensorboard<0.2.0,>=0.1.0, which is not installed.\u001b[0m\nInstalling collected packages: graphviz, requests, mxnet\n  Found existing installation: requests 2.18.4\n    Uninstalling requests-2.18.4:\n      Successfully uninstalled requests-2.18.4\nSuccessfully installed graphviz-0.8.4 mxnet-1.4.1 requests-2.22.0\n"
                }
            ], 
            "source": "!pip install mxnet"
        }, 
        {
            "execution_count": 4, 
            "cell_type": "code", 
            "metadata": {}, 
            "outputs": [], 
            "source": "import mxnet as mx"
        }, 
        {
            "execution_count": 99, 
            "cell_type": "code", 
            "metadata": {}, 
            "outputs": [], 
            "source": "isTest = True"
        }, 
        {
            "execution_count": 100, 
            "cell_type": "code", 
            "metadata": {}, 
            "outputs": [], 
            "source": "# The code was removed by Watson Studio for sharing."
        }, 
        {
            "execution_count": 101, 
            "cell_type": "code", 
            "metadata": {}, 
            "outputs": [
                {
                    "output_type": "stream", 
                    "name": "stdout", 
                    "text": "      0  1       2\n0  2104  3  399900\n1  1600  3  329900\n2  2400  3  369000\n3  1416  2  232000\n4  3000  4  539900\n\nRunning test mode\n"
                }
            ], 
            "source": "print(data.head())\nif isTest:\n    print(\"\\nRunning test mode\")\nelse:\n    print(\"\\nData set is shown above. We have total 73 training examples.\\nEach one is represented by 15 features. Now the feature set should be in the <i>hpinput</i> and price for each house should be in the <i>hpoutput</i> data frame.\")"
        }, 
        {
            "source": "Converting to Numpy arrays.", 
            "cell_type": "markdown", 
            "metadata": {}
        }, 
        {
            "execution_count": 108, 
            "cell_type": "code", 
            "metadata": {}, 
            "outputs": [], 
            "source": "Xorig = datainput.values\nY = dataoutput.values\n# print(\"Shape of X: \", X.shape)\n# print(\"Shape of Y: \", Y.shape)"
        }, 
        {
            "source": "### Apply linear regression using gradient descent\n", 
            "cell_type": "markdown", 
            "metadata": {}
        }, 
        {
            "execution_count": 114, 
            "cell_type": "code", 
            "metadata": {}, 
            "outputs": [], 
            "source": "Xorig = Xorig.astype(float)\nXstd = Xorig.std(axis=0)\nXmean = Xorig.mean(axis=0)\nX = preprocessing.scale(Xorig)\n\nm = X[:,0].size # number of training examples\nX = np.append(np.ones([m,1], dtype = int), X, axis = 1)"
        }, 
        {
            "execution_count": 115, 
            "cell_type": "code", 
            "metadata": {}, 
            "outputs": [
                {
                    "execution_count": 115, 
                    "metadata": {}, 
                    "data": {
                        "text/plain": "65591548106.457443"
                    }, 
                    "output_type": "execute_result"
                }
            ], 
            "source": "n = X[0,:].size # number of features\n\n# define parameter vector\nTheta = np.zeros([n, 1], dtype = int)\n\n# define our hypothesis function\ndef h(parX, parTheta):\n    return np.dot(parX, parTheta)\n\n# define cost function\ndef costFunction(parX, parY, parTheta):\n    mt = parX[:,0].size\n    return 1/(2*mt)*np.sum(np.square(h(parX, parTheta) - parY))\n\ncostFunction(X, Y, Theta)"
        }, 
        {
            "execution_count": 116, 
            "cell_type": "code", 
            "metadata": {}, 
            "outputs": [], 
            "source": "# define Gradient Descent function\ndef gradientDescent(alpha, parTheta, parX, parY):\n    mt = parX[:, 0].size\n    outTheta = parTheta - alpha/mt*np.dot(np.transpose(X), h(X, Theta) - Y)\n    return outTheta"
        }, 
        {
            "execution_count": 117, 
            "cell_type": "code", 
            "metadata": {}, 
            "outputs": [
                {
                    "output_type": "stream", 
                    "name": "stdout", 
                    "text": "2043498948.14\n"
                }
            ], 
            "source": "for x in range(1000):\n    alpha = 0.01\n    Theta = gradientDescent(alpha, Theta, X, Y)\nprint(costFunction(X, Y, Theta))"
        }, 
        {
            "execution_count": 118, 
            "cell_type": "code", 
            "metadata": {}, 
            "outputs": [
                {
                    "execution_count": 118, 
                    "metadata": {}, 
                    "data": {
                        "text/plain": "array([[ 340397.96353532],\n       [ 108742.65627238],\n       [  -5873.22993383]])"
                    }, 
                    "output_type": "execute_result"
                }
            ], 
            "source": "Theta"
        }, 
        {
            "execution_count": 132, 
            "cell_type": "code", 
            "metadata": {}, 
            "outputs": [
                {
                    "execution_count": 132, 
                    "metadata": {}, 
                    "data": {
                        "text/plain": "array([[ 293221.86768361]])"
                    }, 
                    "output_type": "execute_result"
                }
            ], 
            "source": "x = [[1650, 3]]\nx = np.divide(x - Xmean, Xstd)\nx = np.append([[1]], x, axis = 1)\nh(x, Theta)"
        }, 
        {
            "execution_count": 90, 
            "cell_type": "code", 
            "metadata": {}, 
            "outputs": [
                {
                    "execution_count": 90, 
                    "metadata": {}, 
                    "data": {
                        "text/plain": "array([[ 1.,  0.,  0.,  0.,  0.,  0.,  0.,  0.,  0.,  0.,  0.,  0.,  0.,\n         0.,  0.,  0.]])"
                    }, 
                    "output_type": "execute_result"
                }
            ], 
            "source": "x = np.array([[5,2,1,2,2,1993,3080,0.174,330000,0,0,1,0,0,0]])\nx = preprocessing.scale(x)\nx.shape\nx = np.append(np.ones([1,1], dtype = int), x, axis = 1)\nprint(x)"
        }, 
        {
            "execution_count": 91, 
            "cell_type": "code", 
            "metadata": {}, 
            "outputs": [
                {
                    "execution_count": 91, 
                    "metadata": {}, 
                    "data": {
                        "text/plain": "array([[ 359049.82191781]])"
                    }, 
                    "output_type": "execute_result"
                }
            ], 
            "source": "h(x, Theta)"
        }, 
        {
            "execution_count": 76, 
            "cell_type": "code", 
            "metadata": {}, 
            "outputs": [
                {
                    "execution_count": 76, 
                    "metadata": {}, 
                    "data": {
                        "text/plain": "array([[  3.59049822e+05],\n       [  2.13764210e+03],\n       [ -1.27750509e+03],\n       [ -2.40778683e+02],\n       [ -1.29735064e+03],\n       [ -2.55454357e+01],\n       [  2.62289987e+03],\n       [  8.01345788e+02],\n       [  2.11127744e+03],\n       [  4.76068602e+04],\n       [  2.09775682e+03],\n       [ -7.30520404e+02],\n       [ -3.02713200e+02],\n       [  8.07124392e+02],\n       [  4.35631917e+02],\n       [  3.38338421e+02]])"
                    }, 
                    "output_type": "execute_result"
                }
            ], 
            "source": "Theta"
        }, 
        {
            "execution_count": null, 
            "cell_type": "code", 
            "metadata": {}, 
            "outputs": [], 
            "source": ""
        }, 
        {
            "source": "### Normal equation\nFirst let's try normal equation to find optimal Theta which would allow to minimize cost function.\nAccording to hormal equation Theta is calculated as follows:<br>\nTheta = ($X^{T}$X$)^{-1}$$X^{T}$Y", 
            "cell_type": "markdown", 
            "metadata": {}
        }, 
        {
            "execution_count": 134, 
            "cell_type": "code", 
            "metadata": {}, 
            "outputs": [
                {
                    "execution_count": 134, 
                    "metadata": {}, 
                    "data": {
                        "text/plain": "array([[ 293081.46433489]])"
                    }, 
                    "output_type": "execute_result"
                }
            ], 
            "source": "X = np.append(np.ones([m,1], dtype = int), Xorig, axis = 1)\n# Calculate Theta as inverse of X transposed multiplied by X, then multiplied to X transposed and by Y.\nTheta = np.dot(np.dot(np.linalg.inv(np.dot(np.transpose(X), X)), np.transpose(X)), Y)\nTheta\n# Define input parameters for my house\n# x = np.array([[1,5,2,1,2,2,1993,3080,0.174,330000,0,0,1,0,0,0]])\n\nx = [[1, 1650, 3]]\nh(x, Theta)"
        }, 
        {
            "source": "Calculate price of my house using Theta derived from normal equation.", 
            "cell_type": "markdown", 
            "metadata": {}
        }, 
        {
            "execution_count": 24, 
            "cell_type": "code", 
            "metadata": {}, 
            "outputs": [
                {
                    "output_type": "stream", 
                    "name": "stdout", 
                    "text": "Price of the house: $ 326,560.75\n"
                }
            ], 
            "source": "Price = np.dot(x, Theta)[0,0]\nPrice = round(Price, 2)\nprint(\"Price of the house: $\", '{:,}'.format(Price))"
        }
    ], 
    "metadata": {
        "kernelspec": {
            "display_name": "Python 3.5", 
            "name": "python3", 
            "language": "python"
        }, 
        "language_info": {
            "mimetype": "text/x-python", 
            "nbconvert_exporter": "python", 
            "version": "3.5.5", 
            "name": "python", 
            "file_extension": ".py", 
            "pygments_lexer": "ipython3", 
            "codemirror_mode": {
                "version": 3, 
                "name": "ipython"
            }
        }
    }, 
    "nbformat": 4
}