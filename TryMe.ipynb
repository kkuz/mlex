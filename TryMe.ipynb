{
  "cells": [
    {
      "metadata": {
        "trusted": true,
        "collapsed": true
      },
      "cell_type": "code",
      "source": "!pip install ipython-sql\n%load_ext sql\n;",
      "execution_count": 1,
      "outputs": [
        {
          "output_type": "stream",
          "text": "Collecting ipython-sql\n  Downloading https://files.pythonhosted.org/packages/ab/df/427e7cf05ffc67e78672ad57dce2436c1e825129033effe6fcaf804d0c60/ipython_sql-0.3.9-py2.py3-none-any.whl\nRequirement already satisfied: ipython-genutils>=0.1.0 in /home/nbuser/anaconda3_501/lib/python3.6/site-packages (from ipython-sql) (0.2.0)\nRequirement already satisfied: sqlalchemy>=0.6.7 in /home/nbuser/anaconda3_501/lib/python3.6/site-packages (from ipython-sql) (1.2.14)\nRequirement already satisfied: prettytable in /home/nbuser/anaconda3_501/lib/python3.6/site-packages (from ipython-sql) (0.7.2)\nRequirement already satisfied: six in /home/nbuser/anaconda3_501/lib/python3.6/site-packages (from ipython-sql) (1.11.0)\nRequirement already satisfied: ipython>=1.0 in /home/nbuser/anaconda3_501/lib/python3.6/site-packages (from ipython-sql) (7.1.1)\nCollecting sqlparse (from ipython-sql)\n  Downloading https://files.pythonhosted.org/packages/ef/53/900f7d2a54557c6a37886585a91336520e5539e3ae2423ff1102daf4f3a7/sqlparse-0.3.0-py2.py3-none-any.whl\nRequirement already satisfied: pexpect; sys_platform != \"win32\" in /home/nbuser/anaconda3_501/lib/python3.6/site-packages (from ipython>=1.0->ipython-sql) (4.6.0)\nRequirement already satisfied: jedi>=0.10 in /home/nbuser/anaconda3_501/lib/python3.6/site-packages (from ipython>=1.0->ipython-sql) (0.13.1)\nRequirement already satisfied: pickleshare in /home/nbuser/anaconda3_501/lib/python3.6/site-packages (from ipython>=1.0->ipython-sql) (0.7.5)\nRequirement already satisfied: decorator in /home/nbuser/anaconda3_501/lib/python3.6/site-packages (from ipython>=1.0->ipython-sql) (4.3.0)\nRequirement already satisfied: backcall in /home/nbuser/anaconda3_501/lib/python3.6/site-packages (from ipython>=1.0->ipython-sql) (0.1.0)\nRequirement already satisfied: setuptools>=18.5 in /home/nbuser/anaconda3_501/lib/python3.6/site-packages (from ipython>=1.0->ipython-sql) (41.1.0)\nRequirement already satisfied: prompt-toolkit<2.1.0,>=2.0.0 in /home/nbuser/anaconda3_501/lib/python3.6/site-packages (from ipython>=1.0->ipython-sql) (2.0.7)\nRequirement already satisfied: traitlets>=4.2 in /home/nbuser/anaconda3_501/lib/python3.6/site-packages (from ipython>=1.0->ipython-sql) (4.3.2)\nRequirement already satisfied: pygments in /home/nbuser/anaconda3_501/lib/python3.6/site-packages (from ipython>=1.0->ipython-sql) (2.2.0)\nRequirement already satisfied: ptyprocess>=0.5 in /home/nbuser/anaconda3_501/lib/python3.6/site-packages (from pexpect; sys_platform != \"win32\"->ipython>=1.0->ipython-sql) (0.6.0)\nRequirement already satisfied: parso>=0.3.0 in /home/nbuser/anaconda3_501/lib/python3.6/site-packages (from jedi>=0.10->ipython>=1.0->ipython-sql) (0.3.1)\nRequirement already satisfied: wcwidth in /home/nbuser/anaconda3_501/lib/python3.6/site-packages (from prompt-toolkit<2.1.0,>=2.0.0->ipython>=1.0->ipython-sql) (0.1.7)\nInstalling collected packages: sqlparse, ipython-sql\nSuccessfully installed ipython-sql-0.3.9 sqlparse-0.3.0\n\u001b[33mWARNING: You are using pip version 19.2.2, however version 19.2.3 is available.\nYou should consider upgrading via the 'pip install --upgrade pip' command.\u001b[0m\n",
          "name": "stdout"
        },
        {
          "output_type": "execute_result",
          "execution_count": 1,
          "data": {
            "text/plain": "''"
          },
          "metadata": {}
        }
      ]
    },
    {
      "metadata": {
        "trusted": true,
        "collapsed": true
      },
      "cell_type": "code",
      "source": "%sql sqlite:///test1.db",
      "execution_count": 3,
      "outputs": [
        {
          "output_type": "execute_result",
          "execution_count": 3,
          "data": {
            "text/plain": "'Connected: @test1.db'"
          },
          "metadata": {}
        }
      ]
    },
    {
      "metadata": {
        "trusted": true
      },
      "cell_type": "code",
      "source": "import pandas as pd\nimport sqlite3\ncnx = sqlite3.connect(r'test1.db')\ndf = pd.read_csv(\"~/16zpallagi.csv\")\ndf.to_sql(\"zipincome\", cnx, if_exists=\"replace\")",
      "execution_count": null,
      "outputs": []
    },
    {
      "metadata": {
        "trusted": true
      },
      "cell_type": "code",
      "source": "pd.read_sql_query(\"SELECT count(*) from zipincome\", cnx)",
      "execution_count": null,
      "outputs": []
    },
    {
      "metadata": {
        "trusted": true
      },
      "cell_type": "code",
      "source": "%%sql\nSELECT count(*) from zipincome",
      "execution_count": 4,
      "outputs": [
        {
          "output_type": "stream",
          "text": " * sqlite:///test1.db\nDone.\n",
          "name": "stdout"
        },
        {
          "output_type": "execute_result",
          "execution_count": 4,
          "data": {
            "text/html": "<table>\n    <tr>\n        <th>count(*)</th>\n    </tr>\n    <tr>\n        <td>179796</td>\n    </tr>\n</table>",
            "text/plain": "[(179796,)]"
          },
          "metadata": {}
        }
      ]
    },
    {
      "metadata": {
        "trusted": true
      },
      "cell_type": "code",
      "source": "%%sql\nSELECT * FROM zipincome LIMIT 10",
      "execution_count": null,
      "outputs": []
    },
    {
      "metadata": {},
      "cell_type": "markdown",
      "source": "Here is meaning of the few fields we will be using in our research:\n\n<b>STATE</b> - state abbreviation<br>\n<b>zipcode</b> - ZIP code, usually 5 digits number. If value is 0 this is subtotal by STATE and AGI_STUB"
    },
    {
      "metadata": {
        "trusted": true
      },
      "cell_type": "code",
      "source": "%%sql\nSELECT type, name, tbl_name FROM sqlite_master;",
      "execution_count": 5,
      "outputs": [
        {
          "output_type": "stream",
          "text": " * sqlite:///test1.db\nDone.\n",
          "name": "stdout"
        },
        {
          "output_type": "execute_result",
          "execution_count": 5,
          "data": {
            "text/html": "<table>\n    <tr>\n        <th>type</th>\n        <th>name</th>\n        <th>tbl_name</th>\n    </tr>\n    <tr>\n        <td>table</td>\n        <td>zipincome</td>\n        <td>zipincome</td>\n    </tr>\n    <tr>\n        <td>index</td>\n        <td>ix_zipincome_index</td>\n        <td>zipincome</td>\n    </tr>\n    <tr>\n        <td>table</td>\n        <td>person</td>\n        <td>person</td>\n    </tr>\n    <tr>\n        <td>table</td>\n        <td>phone</td>\n        <td>phone</td>\n    </tr>\n</table>",
            "text/plain": "[('table', 'zipincome', 'zipincome'),\n ('index', 'ix_zipincome_index', 'zipincome'),\n ('table', 'person', 'person'),\n ('table', 'phone', 'phone')]"
          },
          "metadata": {}
        }
      ]
    },
    {
      "metadata": {
        "trusted": true
      },
      "cell_type": "code",
      "source": "%%sql\ncreate table person (id int, name text);",
      "execution_count": 6,
      "outputs": [
        {
          "output_type": "stream",
          "text": " * sqlite:///test1.db\n(sqlite3.OperationalError) table person already exists [SQL: 'create table person (id int, name text);'] (Background on this error at: http://sqlalche.me/e/e3q8)\n",
          "name": "stdout"
        }
      ]
    },
    {
      "metadata": {
        "trusted": true
      },
      "cell_type": "code",
      "source": "%%sql\ncreate table phone (personid int, phonenumber text);",
      "execution_count": null,
      "outputs": []
    },
    {
      "metadata": {
        "trusted": true
      },
      "cell_type": "code",
      "source": "",
      "execution_count": null,
      "outputs": []
    }
  ],
  "metadata": {
    "kernelspec": {
      "name": "python36",
      "display_name": "Python 3.6",
      "language": "python"
    },
    "language_info": {
      "mimetype": "text/x-python",
      "nbconvert_exporter": "python",
      "name": "python",
      "pygments_lexer": "ipython3",
      "version": "3.6.6",
      "file_extension": ".py",
      "codemirror_mode": {
        "version": 3,
        "name": "ipython"
      }
    }
  },
  "nbformat": 4,
  "nbformat_minor": 2
}